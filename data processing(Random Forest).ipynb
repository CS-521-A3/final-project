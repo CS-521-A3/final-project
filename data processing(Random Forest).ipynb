{
 "cells": [
  {
   "cell_type": "code",
   "execution_count": 1,
   "id": "ccfcf93f",
   "metadata": {},
   "outputs": [],
   "source": [
    "import pandas as pd\n",
    "import requests\n",
    "from sklearn import metrics\n",
    "from sklearn.feature_extraction.text import TfidfVectorizer\n",
    "from sklearn.metrics import classification_report, precision_score, recall_score\n",
    "from sklearn.model_selection import KFold\n",
    "from sklearn.ensemble import RandomForestClassifier\n",
    "df = pd.read_csv(\"data_set.csv\")"
   ]
  },
  {
   "cell_type": "code",
   "execution_count": 2,
   "id": "72542fe4",
   "metadata": {},
   "outputs": [
    {
     "name": "stdout",
     "output_type": "stream",
     "text": [
      "              precision    recall  f1-score   support\n",
      "\n",
      "        FAKE       0.86      0.80      0.83       681\n",
      "        REAL       0.78      0.84      0.81       586\n",
      "\n",
      "    accuracy                           0.82      1267\n",
      "   macro avg       0.82      0.82      0.82      1267\n",
      "weighted avg       0.82      0.82      0.82      1267\n",
      "\n",
      "              precision    recall  f1-score   support\n",
      "\n",
      "        FAKE       0.83      0.80      0.81       689\n",
      "        REAL       0.77      0.80      0.78       578\n",
      "\n",
      "    accuracy                           0.80      1267\n",
      "   macro avg       0.80      0.80      0.80      1267\n",
      "weighted avg       0.80      0.80      0.80      1267\n",
      "\n",
      "              precision    recall  f1-score   support\n",
      "\n",
      "        FAKE       0.85      0.77      0.81       657\n",
      "        REAL       0.77      0.85      0.81       610\n",
      "\n",
      "    accuracy                           0.81      1267\n",
      "   macro avg       0.81      0.81      0.81      1267\n",
      "weighted avg       0.81      0.81      0.81      1267\n",
      "\n",
      "              precision    recall  f1-score   support\n",
      "\n",
      "        FAKE       0.83      0.77      0.80       681\n",
      "        REAL       0.75      0.82      0.79       586\n",
      "\n",
      "    accuracy                           0.79      1267\n",
      "   macro avg       0.79      0.80      0.79      1267\n",
      "weighted avg       0.80      0.79      0.79      1267\n",
      "\n",
      "              precision    recall  f1-score   support\n",
      "\n",
      "        FAKE       0.82      0.76      0.79       692\n",
      "        REAL       0.74      0.80      0.77       575\n",
      "\n",
      "    accuracy                           0.78      1267\n",
      "   macro avg       0.78      0.78      0.78      1267\n",
      "weighted avg       0.78      0.78      0.78      1267\n",
      "\n"
     ]
    }
   ],
   "source": [
    "vectorizor = TfidfVectorizer()\n",
    "features = vectorizor.fit_transform(df['title'])\n",
    "labels = df['label']\n",
    "kf = KFold(5)\n",
    "for train, test in kf.split(features):\n",
    "    model = RandomForestClassifier(n_estimators=200, max_depth= None, random_state=0)\n",
    "    model.fit(features[train],labels.iloc[train])\n",
    "    prediction = model.predict(features[test])\n",
    "    print(classification_report(prediction, labels.iloc[test]))"
   ]
  },
  {
   "cell_type": "code",
   "execution_count": 3,
   "id": "047b6240",
   "metadata": {},
   "outputs": [
    {
     "data": {
      "text/plain": [
       "array(['FAKE', 'FAKE', 'FAKE', 'FAKE', 'FAKE', 'FAKE', 'FAKE', 'FAKE',\n",
       "       'FAKE', 'FAKE', 'REAL', 'FAKE', 'FAKE', 'REAL', 'REAL', 'FAKE',\n",
       "       'FAKE', 'FAKE', 'REAL', 'FAKE'], dtype=object)"
      ]
     },
     "execution_count": 3,
     "metadata": {},
     "output_type": "execute_result"
    }
   ],
   "source": [
    "url = ('https://newsapi.org/v2/everything?'\n",
    "       'q=Apple&'\n",
    "       'from=2021-12-11&'\n",
    "       'language=en&'\n",
    "       'sortBy=popularity&'\n",
    "       'apiKey=0f8e1a86c220413d94ee909381ed95df')\n",
    "\n",
    "response = requests.get(url).json()\n",
    "\n",
    "title_list = []\n",
    "content_list = []\n",
    "\n",
    "for news in response['articles']:\n",
    "    title_list.append(news['title'])\n",
    "    content_list.append(news['content'].replace('\\n','').replace('\\r','').replace('\\f',''))\n",
    "title = pd.DataFrame(title_list, columns=['title'])\n",
    "content = pd.DataFrame(content_list, columns=['content'])\n",
    "apple_news = pd.concat([title,content],axis = 1)\n",
    "apple_news_tests = vectorizor.transform(apple_news['title'])\n",
    "model.predict(apple_news_tests)"
   ]
  },
  {
   "cell_type": "code",
   "execution_count": 4,
   "id": "6b045370",
   "metadata": {},
   "outputs": [
    {
     "data": {
      "text/plain": [
       "array(['REAL', 'FAKE', 'REAL', 'FAKE', 'REAL', 'FAKE', 'FAKE', 'FAKE',\n",
       "       'FAKE', 'REAL', 'FAKE', 'FAKE', 'FAKE', 'FAKE', 'FAKE', 'FAKE',\n",
       "       'FAKE', 'FAKE', 'REAL', 'FAKE'], dtype=object)"
      ]
     },
     "execution_count": 4,
     "metadata": {},
     "output_type": "execute_result"
    }
   ],
   "source": [
    "url = ('https://newsapi.org/v2/everything?'\n",
    "       'q=tesla&'\n",
    "       'from=2021-12-11&'\n",
    "       'language=en&'\n",
    "       'sortBy=popularity&'\n",
    "       'apiKey=0f8e1a86c220413d94ee909381ed95df')\n",
    "\n",
    "response = requests.get(url).json()\n",
    "\n",
    "title_list = []\n",
    "content_list = []\n",
    "\n",
    "for news in response['articles']:\n",
    "    title_list.append(news['title'])\n",
    "    content_list.append(news['content'].replace('\\n','').replace('\\r','').replace('\\f',''))\n",
    "title = pd.DataFrame(title_list, columns=['title'])\n",
    "content = pd.DataFrame(content_list, columns=['content'])\n",
    "Tesla_news = pd.concat([title,content],axis = 1)\n",
    "Tesla_news_tests = vectorizor.transform(Tesla_news['title'])\n",
    "model.predict(Tesla_news_tests)"
   ]
  },
  {
   "cell_type": "code",
   "execution_count": 5,
   "id": "53bb4f01",
   "metadata": {},
   "outputs": [
    {
     "data": {
      "text/plain": [
       "array(['REAL', 'FAKE', 'FAKE', 'FAKE', 'REAL', 'FAKE', 'REAL', 'FAKE',\n",
       "       'REAL', 'FAKE', 'FAKE', 'FAKE', 'FAKE', 'FAKE', 'FAKE', 'FAKE',\n",
       "       'REAL'], dtype=object)"
      ]
     },
     "execution_count": 5,
     "metadata": {},
     "output_type": "execute_result"
    }
   ],
   "source": [
    "url = ('https://newsapi.org/v2/everything?'\n",
    "       'domains=techcrunch.com,thenextweb.com&'\n",
    "       'from=2021-12-11&'\n",
    "       'language=en&'\n",
    "       'sortBy=popularity&'\n",
    "       'apiKey=0f8e1a86c220413d94ee909381ed95df')\n",
    "\n",
    "response = requests.get(url).json()\n",
    "\n",
    "title_list = []\n",
    "content_list = []\n",
    "\n",
    "for news in response['articles']:\n",
    "    title_list.append(news['title'])\n",
    "    content_list.append(news['content'].replace('\\n','').replace('\\r','').replace('\\f',''))\n",
    "title = pd.DataFrame(title_list, columns=['title'])\n",
    "content = pd.DataFrame(content_list, columns=['content'])\n",
    "tech_news = pd.concat([title,content],axis = 1)\n",
    "tech_news_tests = vectorizor.transform(tech_news['title'])\n",
    "model.predict(tech_news_tests)"
   ]
  },
  {
   "cell_type": "code",
   "execution_count": 6,
   "id": "13a9889d",
   "metadata": {},
   "outputs": [
    {
     "data": {
      "text/plain": [
       "array(['FAKE', 'FAKE', 'FAKE', 'FAKE', 'REAL', 'FAKE', 'FAKE', 'FAKE',\n",
       "       'FAKE', 'FAKE', 'FAKE', 'FAKE', 'FAKE', 'FAKE', 'FAKE', 'FAKE',\n",
       "       'FAKE', 'REAL', 'FAKE', 'FAKE'], dtype=object)"
      ]
     },
     "execution_count": 6,
     "metadata": {},
     "output_type": "execute_result"
    }
   ],
   "source": [
    "url = ('https://newsapi.org/v2/top-headlines?'\n",
    "       'country=us&'\n",
    "       'category=business&'\n",
    "       'apiKey=0f8e1a86c220413d94ee909381ed95df')\n",
    "\n",
    "response = requests.get(url).json()\n",
    "\n",
    "title_list = []\n",
    "\n",
    "for news in response['articles']:\n",
    "    title_list.append(news['title'])\n",
    "business_news = pd.DataFrame(title_list, columns=['title'])\n",
    "business_news_tests = vectorizor.transform(business_news['title'])\n",
    "model.predict(business_news_tests)"
   ]
  },
  {
   "cell_type": "code",
   "execution_count": null,
   "id": "35e8bfac",
   "metadata": {},
   "outputs": [],
   "source": []
  }
 ],
 "metadata": {
  "kernelspec": {
   "display_name": "Python 3",
   "language": "python",
   "name": "python3"
  },
  "language_info": {
   "codemirror_mode": {
    "name": "ipython",
    "version": 3
   },
   "file_extension": ".py",
   "mimetype": "text/x-python",
   "name": "python",
   "nbconvert_exporter": "python",
   "pygments_lexer": "ipython3",
   "version": "3.8.8"
  }
 },
 "nbformat": 4,
 "nbformat_minor": 5
}
