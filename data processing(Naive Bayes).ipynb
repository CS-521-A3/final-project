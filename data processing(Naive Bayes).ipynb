{
 "cells": [
  {
   "cell_type": "code",
   "execution_count": 1,
   "id": "2c21053d",
   "metadata": {},
   "outputs": [],
   "source": [
    "import pandas as pd\n",
    "import requests\n",
    "from sklearn import metrics\n",
    "from sklearn.feature_extraction.text import TfidfVectorizer\n",
    "from sklearn.metrics import classification_report, precision_score, recall_score\n",
    "from sklearn.model_selection import KFold\n",
    "from sklearn.naive_bayes import MultinomialNB\n",
    "df = pd.read_csv(\"data_set.csv\")"
   ]
  },
  {
   "cell_type": "code",
   "execution_count": 2,
   "id": "cf409e79",
   "metadata": {},
   "outputs": [],
   "source": [
    "vectorizor = TfidfVectorizer()"
   ]
  },
  {
   "cell_type": "code",
   "execution_count": 3,
   "id": "9f647f0d",
   "metadata": {},
   "outputs": [],
   "source": [
    "features = vectorizor.fit_transform(df['title'])\n",
    "labels = df['label']"
   ]
  },
  {
   "cell_type": "code",
   "execution_count": 4,
   "id": "f7b92be3",
   "metadata": {},
   "outputs": [],
   "source": [
    "kf = KFold(5)"
   ]
  },
  {
   "cell_type": "code",
   "execution_count": 5,
   "id": "d54966ea",
   "metadata": {},
   "outputs": [
    {
     "name": "stdout",
     "output_type": "stream",
     "text": [
      "              precision    recall  f1-score   support\n",
      "\n",
      "        FAKE       0.78      0.87      0.82       572\n",
      "        REAL       0.88      0.80      0.84       695\n",
      "\n",
      "    accuracy                           0.83      1267\n",
      "   macro avg       0.83      0.84      0.83      1267\n",
      "weighted avg       0.84      0.83      0.83      1267\n",
      "\n",
      "              precision    recall  f1-score   support\n",
      "\n",
      "        FAKE       0.73      0.87      0.79       557\n",
      "        REAL       0.88      0.75      0.81       710\n",
      "\n",
      "    accuracy                           0.80      1267\n",
      "   macro avg       0.80      0.81      0.80      1267\n",
      "weighted avg       0.81      0.80      0.80      1267\n",
      "\n",
      "              precision    recall  f1-score   support\n",
      "\n",
      "        FAKE       0.77      0.83      0.80       553\n",
      "        REAL       0.86      0.81      0.83       714\n",
      "\n",
      "    accuracy                           0.82      1267\n",
      "   macro avg       0.82      0.82      0.82      1267\n",
      "weighted avg       0.82      0.82      0.82      1267\n",
      "\n",
      "              precision    recall  f1-score   support\n",
      "\n",
      "        FAKE       0.74      0.85      0.79       548\n",
      "        REAL       0.87      0.77      0.82       719\n",
      "\n",
      "    accuracy                           0.81      1267\n",
      "   macro avg       0.81      0.81      0.80      1267\n",
      "weighted avg       0.81      0.81      0.81      1267\n",
      "\n",
      "              precision    recall  f1-score   support\n",
      "\n",
      "        FAKE       0.75      0.85      0.80       571\n",
      "        REAL       0.86      0.77      0.81       696\n",
      "\n",
      "    accuracy                           0.81      1267\n",
      "   macro avg       0.81      0.81      0.81      1267\n",
      "weighted avg       0.81      0.81      0.81      1267\n",
      "\n"
     ]
    }
   ],
   "source": [
    "for train, test in kf.split(features):\n",
    "    model = MultinomialNB()\n",
    "    model.fit(features[train],labels.iloc[train])\n",
    "    prediction = model.predict(features[test])\n",
    "    print(classification_report(prediction, labels.iloc[test]))"
   ]
  },
  {
   "cell_type": "code",
   "execution_count": 6,
   "id": "7294107d",
   "metadata": {},
   "outputs": [
    {
     "data": {
      "text/plain": [
       "array(['FAKE', 'FAKE', 'FAKE', 'FAKE', 'FAKE', 'FAKE', 'FAKE', 'FAKE',\n",
       "       'REAL', 'FAKE', 'REAL', 'FAKE', 'FAKE', 'REAL', 'FAKE', 'FAKE',\n",
       "       'FAKE', 'FAKE', 'REAL', 'FAKE'], dtype='<U4')"
      ]
     },
     "execution_count": 6,
     "metadata": {},
     "output_type": "execute_result"
    }
   ],
   "source": [
    "url = ('https://newsapi.org/v2/everything?'\n",
    "       'q=Apple&'\n",
    "       'from=2021-12-11&'\n",
    "       'language=en&'\n",
    "       'sortBy=popularity&'\n",
    "       'apiKey=0f8e1a86c220413d94ee909381ed95df')\n",
    "\n",
    "response = requests.get(url).json()\n",
    "\n",
    "title_list = []\n",
    "content_list = []\n",
    "\n",
    "for news in response['articles']:\n",
    "    title_list.append(news['title'])\n",
    "    content_list.append(news['content'].replace('\\n','').replace('\\r','').replace('\\f',''))\n",
    "title = pd.DataFrame(title_list, columns=['title'])\n",
    "content = pd.DataFrame(content_list, columns=['content'])\n",
    "apple_news = pd.concat([title,content],axis = 1)\n",
    "apple_news_tests = vectorizor.transform(apple_news['title'])\n",
    "model.predict(apple_news_tests)"
   ]
  },
  {
   "cell_type": "code",
   "execution_count": 7,
   "id": "7d307fa7",
   "metadata": {},
   "outputs": [
    {
     "data": {
      "text/plain": [
       "array(['FAKE', 'FAKE', 'REAL', 'REAL', 'REAL', 'FAKE', 'REAL', 'FAKE',\n",
       "       'REAL', 'REAL', 'FAKE', 'FAKE', 'FAKE', 'FAKE', 'REAL', 'FAKE',\n",
       "       'FAKE', 'REAL', 'FAKE', 'REAL'], dtype='<U4')"
      ]
     },
     "execution_count": 7,
     "metadata": {},
     "output_type": "execute_result"
    }
   ],
   "source": [
    "url = ('https://newsapi.org/v2/everything?'\n",
    "       'q=tesla&'\n",
    "       'from=2021-12-11&'\n",
    "       'language=en&'\n",
    "       'sortBy=popularity&'\n",
    "       'apiKey=0f8e1a86c220413d94ee909381ed95df')\n",
    "\n",
    "response = requests.get(url).json()\n",
    "\n",
    "title_list = []\n",
    "content_list = []\n",
    "\n",
    "for news in response['articles']:\n",
    "    title_list.append(news['title'])\n",
    "    content_list.append(news['content'].replace('\\n','').replace('\\r','').replace('\\f',''))\n",
    "title = pd.DataFrame(title_list, columns=['title'])\n",
    "content = pd.DataFrame(content_list, columns=['content'])\n",
    "Tesla_news = pd.concat([title,content],axis = 1)\n",
    "Tesla_news_tests = vectorizor.transform(Tesla_news['title'])\n",
    "model.predict(Tesla_news_tests)"
   ]
  },
  {
   "cell_type": "code",
   "execution_count": 8,
   "id": "efb5b7ab",
   "metadata": {},
   "outputs": [
    {
     "data": {
      "text/plain": [
       "array(['FAKE', 'REAL', 'REAL', 'REAL', 'FAKE', 'REAL', 'FAKE', 'REAL',\n",
       "       'REAL', 'FAKE', 'FAKE', 'FAKE', 'REAL', 'FAKE', 'REAL', 'FAKE',\n",
       "       'REAL'], dtype='<U4')"
      ]
     },
     "execution_count": 8,
     "metadata": {},
     "output_type": "execute_result"
    }
   ],
   "source": [
    "url = ('https://newsapi.org/v2/everything?'\n",
    "       'domains=techcrunch.com,thenextweb.com&'\n",
    "       'from=2021-12-11&'\n",
    "       'language=en&'\n",
    "       'sortBy=popularity&'\n",
    "       'apiKey=0f8e1a86c220413d94ee909381ed95df')\n",
    "\n",
    "response = requests.get(url).json()\n",
    "\n",
    "title_list = []\n",
    "content_list = []\n",
    "\n",
    "for news in response['articles']:\n",
    "    title_list.append(news['title'])\n",
    "    content_list.append(news['content'].replace('\\n','').replace('\\r','').replace('\\f',''))\n",
    "title = pd.DataFrame(title_list, columns=['title'])\n",
    "content = pd.DataFrame(content_list, columns=['content'])\n",
    "tech_news = pd.concat([title,content],axis = 1)\n",
    "tech_news_tests = vectorizor.transform(tech_news['title'])\n",
    "model.predict(tech_news_tests)"
   ]
  },
  {
   "cell_type": "code",
   "execution_count": 9,
   "id": "0845b27b",
   "metadata": {},
   "outputs": [
    {
     "data": {
      "text/plain": [
       "array(['REAL', 'FAKE', 'REAL', 'FAKE', 'REAL', 'REAL', 'REAL', 'FAKE',\n",
       "       'REAL', 'REAL', 'FAKE', 'REAL', 'REAL', 'FAKE', 'FAKE', 'REAL',\n",
       "       'REAL', 'REAL', 'REAL', 'FAKE'], dtype='<U4')"
      ]
     },
     "execution_count": 9,
     "metadata": {},
     "output_type": "execute_result"
    }
   ],
   "source": [
    "url = ('https://newsapi.org/v2/top-headlines?'\n",
    "       'country=us&'\n",
    "       'category=business&'\n",
    "       'apiKey=0f8e1a86c220413d94ee909381ed95df')\n",
    "\n",
    "response = requests.get(url).json()\n",
    "\n",
    "title_list = []\n",
    "\n",
    "for news in response['articles']:\n",
    "    title_list.append(news['title'])\n",
    "business_news = pd.DataFrame(title_list, columns=['title'])\n",
    "business_news_tests = vectorizor.transform(business_news['title'])\n",
    "model.predict(business_news_tests)"
   ]
  },
  {
   "cell_type": "code",
   "execution_count": null,
   "id": "f785663d",
   "metadata": {},
   "outputs": [],
   "source": []
  }
 ],
 "metadata": {
  "kernelspec": {
   "display_name": "Python 3",
   "language": "python",
   "name": "python3"
  },
  "language_info": {
   "codemirror_mode": {
    "name": "ipython",
    "version": 3
   },
   "file_extension": ".py",
   "mimetype": "text/x-python",
   "name": "python",
   "nbconvert_exporter": "python",
   "pygments_lexer": "ipython3",
   "version": "3.8.8"
  }
 },
 "nbformat": 4,
 "nbformat_minor": 5
}
